{
 "cells": [
  {
   "cell_type": "code",
   "execution_count": 1,
   "metadata": {},
   "outputs": [],
   "source": [
    "from __future__ import print_function, division\n",
    "import torch\n",
    "import torch.nn as nn\n",
    "import torch.optim as optim\n",
    "from torch.autograd import Variable\n",
    "import numpy as np\n",
    "import torchvision\n",
    "from torchvision import datasets, models, transforms\n",
    "import matplotlib.pyplot as plt\n",
    "import time\n",
    "import copy\n",
    "import os\n",
    "import torch\n",
    "import torch.nn as nn\n",
    "import os\n",
    "import torchvision as tv\n",
    "from torchvision import transforms\n",
    "import matplotlib.pyplot as plt\n",
    "import torch.optim as optim\n",
    "from torch.optim import lr_scheduler\n",
    "from torch.autograd import Variable\n",
    "import numpy as np\n",
    "import time\n",
    "import copy\n",
    "from torch.optim import Adam\n",
    "plt.ion()  "
   ]
  },
  {
   "cell_type": "code",
   "execution_count": 2,
   "metadata": {},
   "outputs": [],
   "source": [
    "use_gpu = 0\n",
    "if use_gpu:\n",
    "    torch.cuda.set_device(CUDA_DEVICE)\n",
    "\n",
    "count=0"
   ]
  },
  {
   "cell_type": "code",
   "execution_count": 3,
   "metadata": {},
   "outputs": [],
   "source": [
    "data_transform = {\n",
    "    'Train' : tv.transforms.Compose([\n",
    "        #transforms.RandomHorizontalFlip(),\n",
    "        #transforms.RandomVerticalFlip(),\n",
    "        transforms.Resize(256),\n",
    "        #transforms.RandomResizedCrop(224),\n",
    "        transforms.CenterCrop(224),\n",
    "        transforms.ToTensor(),\n",
    "        transforms.Normalize(mean = [0.485, 0.456, 0.406], std = [0.229, 0.224, 0.225])\n",
    "    ]),\n",
    "    'Val' : tv.transforms.Compose([\n",
    "        transforms.RandomHorizontalFlip(),\n",
    "        transforms.Resize(256),\n",
    "        transforms.CenterCrop(224),\n",
    "        transforms.ToTensor(),\n",
    "        transforms.Normalize(mean = [0.485, 0.456, 0.406], std = [0.229, 0.224, 0.225])\n",
    "    ]),\n",
    "    'Test' : tv.transforms.Compose([\n",
    "        transforms.RandomHorizontalFlip(),\n",
    "        transforms.Resize(256),\n",
    "        transforms.CenterCrop(224),\n",
    "        transforms.ToTensor(),\n",
    "        transforms.Normalize(mean = [0.485, 0.456, 0.406], std = [0.229, 0.224, 0.225])\n",
    "    ])\n",
    "        \n",
    "}"
   ]
  },
  {
   "cell_type": "code",
   "execution_count": 4,
   "metadata": {},
   "outputs": [],
   "source": [
    "data_folder = \"../dataset\"\n",
    "datasets = ['Train','Val','Test']\n",
    "image_data = {}\n",
    "for x in datasets:\n",
    "    image_data[x] = tv.datasets.ImageFolder(data_folder+'/'+x, transform=data_transform[x])\n",
    "    \n",
    "dset_sizes = {x: len(image_data[x]) for x in datasets}"
   ]
  },
  {
   "cell_type": "code",
   "execution_count": 5,
   "metadata": {},
   "outputs": [
    {
     "name": "stdout",
     "output_type": "stream",
     "text": [
      "['A', 'B', 'C', 'D', 'E', 'F', 'G', 'H', 'I', 'J', 'K', 'L', 'M', 'N', 'O', 'P', 'Q', 'R', 'S', 'T', 'U', 'V', 'W', 'X', 'Y', 'Z', 'del', 'nothing', 'space']\n"
     ]
    }
   ],
   "source": [
    "data_loader = {}\n",
    "for x in datasets:\n",
    "    data_loader[x] = torch.utils.data.DataLoader(image_data[x], batch_size=32,\n",
    "        shuffle=True, num_workers=4\n",
    "    )\n",
    "class_names = image_data['Train'].classes\n",
    "print(class_names)"
   ]
  },
  {
   "cell_type": "code",
   "execution_count": 6,
   "metadata": {
    "collapsed": true
   },
   "outputs": [
    {
     "ename": "KeyboardInterrupt",
     "evalue": "",
     "output_type": "error",
     "traceback": [
      "\u001b[1;31m---------------------------------------------------------------------------\u001b[0m",
      "\u001b[1;31mKeyboardInterrupt\u001b[0m                         Traceback (most recent call last)",
      "\u001b[1;32m<ipython-input-6-9f8d5bf75400>\u001b[0m in \u001b[0;36m<module>\u001b[1;34m()\u001b[0m\n\u001b[0;32m    112\u001b[0m     \u001b[1;32mreturn\u001b[0m \u001b[0moptimizer\u001b[0m\u001b[1;33m\u001b[0m\u001b[0m\n\u001b[0;32m    113\u001b[0m \u001b[1;33m\u001b[0m\u001b[0m\n\u001b[1;32m--> 114\u001b[1;33m \u001b[0mmodel_ft\u001b[0m \u001b[1;33m=\u001b[0m \u001b[0mmodels\u001b[0m\u001b[1;33m.\u001b[0m\u001b[0malexnet\u001b[0m\u001b[1;33m(\u001b[0m\u001b[0mpretrained\u001b[0m\u001b[1;33m=\u001b[0m\u001b[1;32mTrue\u001b[0m\u001b[1;33m)\u001b[0m\u001b[1;33m\u001b[0m\u001b[0m\n\u001b[0m\u001b[0;32m    115\u001b[0m \u001b[1;32mfor\u001b[0m \u001b[0mparam\u001b[0m \u001b[1;32min\u001b[0m \u001b[0mmodel_ft\u001b[0m\u001b[1;33m.\u001b[0m\u001b[0mparameters\u001b[0m\u001b[1;33m(\u001b[0m\u001b[1;33m)\u001b[0m\u001b[1;33m:\u001b[0m\u001b[1;33m\u001b[0m\u001b[0m\n\u001b[0;32m    116\u001b[0m     \u001b[0mparam\u001b[0m\u001b[1;33m.\u001b[0m\u001b[0mrequires_grad\u001b[0m \u001b[1;33m=\u001b[0m \u001b[1;32mFalse\u001b[0m\u001b[1;33m\u001b[0m\u001b[0m\n",
      "\u001b[1;32m~\\Anaconda3\\envs\\cs682\\lib\\site-packages\\torchvision\\models\\alexnet.py\u001b[0m in \u001b[0;36malexnet\u001b[1;34m(pretrained, **kwargs)\u001b[0m\n\u001b[0;32m     56\u001b[0m     \u001b[0mmodel\u001b[0m \u001b[1;33m=\u001b[0m \u001b[0mAlexNet\u001b[0m\u001b[1;33m(\u001b[0m\u001b[1;33m**\u001b[0m\u001b[0mkwargs\u001b[0m\u001b[1;33m)\u001b[0m\u001b[1;33m\u001b[0m\u001b[0m\n\u001b[0;32m     57\u001b[0m     \u001b[1;32mif\u001b[0m \u001b[0mpretrained\u001b[0m\u001b[1;33m:\u001b[0m\u001b[1;33m\u001b[0m\u001b[0m\n\u001b[1;32m---> 58\u001b[1;33m         \u001b[0mmodel\u001b[0m\u001b[1;33m.\u001b[0m\u001b[0mload_state_dict\u001b[0m\u001b[1;33m(\u001b[0m\u001b[0mmodel_zoo\u001b[0m\u001b[1;33m.\u001b[0m\u001b[0mload_url\u001b[0m\u001b[1;33m(\u001b[0m\u001b[0mmodel_urls\u001b[0m\u001b[1;33m[\u001b[0m\u001b[1;34m'alexnet'\u001b[0m\u001b[1;33m]\u001b[0m\u001b[1;33m)\u001b[0m\u001b[1;33m)\u001b[0m\u001b[1;33m\u001b[0m\u001b[0m\n\u001b[0m\u001b[0;32m     59\u001b[0m     \u001b[1;32mreturn\u001b[0m \u001b[0mmodel\u001b[0m\u001b[1;33m\u001b[0m\u001b[0m\n",
      "\u001b[1;32m~\\Anaconda3\\envs\\cs682\\lib\\site-packages\\torch\\utils\\model_zoo.py\u001b[0m in \u001b[0;36mload_url\u001b[1;34m(url, model_dir, map_location, progress)\u001b[0m\n\u001b[0;32m     64\u001b[0m         \u001b[0mhash_prefix\u001b[0m \u001b[1;33m=\u001b[0m \u001b[0mHASH_REGEX\u001b[0m\u001b[1;33m.\u001b[0m\u001b[0msearch\u001b[0m\u001b[1;33m(\u001b[0m\u001b[0mfilename\u001b[0m\u001b[1;33m)\u001b[0m\u001b[1;33m.\u001b[0m\u001b[0mgroup\u001b[0m\u001b[1;33m(\u001b[0m\u001b[1;36m1\u001b[0m\u001b[1;33m)\u001b[0m\u001b[1;33m\u001b[0m\u001b[0m\n\u001b[0;32m     65\u001b[0m         \u001b[0m_download_url_to_file\u001b[0m\u001b[1;33m(\u001b[0m\u001b[0murl\u001b[0m\u001b[1;33m,\u001b[0m \u001b[0mcached_file\u001b[0m\u001b[1;33m,\u001b[0m \u001b[0mhash_prefix\u001b[0m\u001b[1;33m,\u001b[0m \u001b[0mprogress\u001b[0m\u001b[1;33m=\u001b[0m\u001b[0mprogress\u001b[0m\u001b[1;33m)\u001b[0m\u001b[1;33m\u001b[0m\u001b[0m\n\u001b[1;32m---> 66\u001b[1;33m     \u001b[1;32mreturn\u001b[0m \u001b[0mtorch\u001b[0m\u001b[1;33m.\u001b[0m\u001b[0mload\u001b[0m\u001b[1;33m(\u001b[0m\u001b[0mcached_file\u001b[0m\u001b[1;33m,\u001b[0m \u001b[0mmap_location\u001b[0m\u001b[1;33m=\u001b[0m\u001b[0mmap_location\u001b[0m\u001b[1;33m)\u001b[0m\u001b[1;33m\u001b[0m\u001b[0m\n\u001b[0m\u001b[0;32m     67\u001b[0m \u001b[1;33m\u001b[0m\u001b[0m\n\u001b[0;32m     68\u001b[0m \u001b[1;33m\u001b[0m\u001b[0m\n",
      "\u001b[1;32m~\\Anaconda3\\envs\\cs682\\lib\\site-packages\\torch\\serialization.py\u001b[0m in \u001b[0;36mload\u001b[1;34m(f, map_location, pickle_module)\u001b[0m\n\u001b[0;32m    356\u001b[0m         \u001b[0mf\u001b[0m \u001b[1;33m=\u001b[0m \u001b[0mopen\u001b[0m\u001b[1;33m(\u001b[0m\u001b[0mf\u001b[0m\u001b[1;33m,\u001b[0m \u001b[1;34m'rb'\u001b[0m\u001b[1;33m)\u001b[0m\u001b[1;33m\u001b[0m\u001b[0m\n\u001b[0;32m    357\u001b[0m     \u001b[1;32mtry\u001b[0m\u001b[1;33m:\u001b[0m\u001b[1;33m\u001b[0m\u001b[0m\n\u001b[1;32m--> 358\u001b[1;33m         \u001b[1;32mreturn\u001b[0m \u001b[0m_load\u001b[0m\u001b[1;33m(\u001b[0m\u001b[0mf\u001b[0m\u001b[1;33m,\u001b[0m \u001b[0mmap_location\u001b[0m\u001b[1;33m,\u001b[0m \u001b[0mpickle_module\u001b[0m\u001b[1;33m)\u001b[0m\u001b[1;33m\u001b[0m\u001b[0m\n\u001b[0m\u001b[0;32m    359\u001b[0m     \u001b[1;32mfinally\u001b[0m\u001b[1;33m:\u001b[0m\u001b[1;33m\u001b[0m\u001b[0m\n\u001b[0;32m    360\u001b[0m         \u001b[1;32mif\u001b[0m \u001b[0mnew_fd\u001b[0m\u001b[1;33m:\u001b[0m\u001b[1;33m\u001b[0m\u001b[0m\n",
      "\u001b[1;32m~\\Anaconda3\\envs\\cs682\\lib\\site-packages\\torch\\serialization.py\u001b[0m in \u001b[0;36m_load\u001b[1;34m(f, map_location, pickle_module)\u001b[0m\n\u001b[0;32m    525\u001b[0m         \u001b[1;31m# only if offset is zero we can attempt the legacy tar file loader\u001b[0m\u001b[1;33m\u001b[0m\u001b[1;33m\u001b[0m\u001b[0m\n\u001b[0;32m    526\u001b[0m         \u001b[1;32mtry\u001b[0m\u001b[1;33m:\u001b[0m\u001b[1;33m\u001b[0m\u001b[0m\n\u001b[1;32m--> 527\u001b[1;33m             \u001b[1;32mreturn\u001b[0m \u001b[0mlegacy_load\u001b[0m\u001b[1;33m(\u001b[0m\u001b[0mf\u001b[0m\u001b[1;33m)\u001b[0m\u001b[1;33m\u001b[0m\u001b[0m\n\u001b[0m\u001b[0;32m    528\u001b[0m         \u001b[1;32mexcept\u001b[0m \u001b[0mtarfile\u001b[0m\u001b[1;33m.\u001b[0m\u001b[0mTarError\u001b[0m\u001b[1;33m:\u001b[0m\u001b[1;33m\u001b[0m\u001b[0m\n\u001b[0;32m    529\u001b[0m             \u001b[1;31m# if not a tarfile, reset file offset and proceed\u001b[0m\u001b[1;33m\u001b[0m\u001b[1;33m\u001b[0m\u001b[0m\n",
      "\u001b[1;32m~\\Anaconda3\\envs\\cs682\\lib\\site-packages\\torch\\serialization.py\u001b[0m in \u001b[0;36mlegacy_load\u001b[1;34m(f)\u001b[0m\n\u001b[0;32m    439\u001b[0m                 \u001b[0mmkdtemp\u001b[0m\u001b[1;33m(\u001b[0m\u001b[1;33m)\u001b[0m \u001b[1;32mas\u001b[0m \u001b[0mtmpdir\u001b[0m\u001b[1;33m:\u001b[0m\u001b[1;33m\u001b[0m\u001b[0m\n\u001b[0;32m    440\u001b[0m \u001b[1;33m\u001b[0m\u001b[0m\n\u001b[1;32m--> 441\u001b[1;33m             \u001b[0mtar\u001b[0m\u001b[1;33m.\u001b[0m\u001b[0mextract\u001b[0m\u001b[1;33m(\u001b[0m\u001b[1;34m'storages'\u001b[0m\u001b[1;33m,\u001b[0m \u001b[0mpath\u001b[0m\u001b[1;33m=\u001b[0m\u001b[0mtmpdir\u001b[0m\u001b[1;33m)\u001b[0m\u001b[1;33m\u001b[0m\u001b[0m\n\u001b[0m\u001b[0;32m    442\u001b[0m             \u001b[1;32mwith\u001b[0m \u001b[0mopen\u001b[0m\u001b[1;33m(\u001b[0m\u001b[0mos\u001b[0m\u001b[1;33m.\u001b[0m\u001b[0mpath\u001b[0m\u001b[1;33m.\u001b[0m\u001b[0mjoin\u001b[0m\u001b[1;33m(\u001b[0m\u001b[0mtmpdir\u001b[0m\u001b[1;33m,\u001b[0m \u001b[1;34m'storages'\u001b[0m\u001b[1;33m)\u001b[0m\u001b[1;33m,\u001b[0m \u001b[1;34m'rb'\u001b[0m\u001b[1;33m,\u001b[0m \u001b[1;36m0\u001b[0m\u001b[1;33m)\u001b[0m \u001b[1;32mas\u001b[0m \u001b[0mf\u001b[0m\u001b[1;33m:\u001b[0m\u001b[1;33m\u001b[0m\u001b[0m\n\u001b[0;32m    443\u001b[0m                 \u001b[0mnum_storages\u001b[0m \u001b[1;33m=\u001b[0m \u001b[0mpickle_module\u001b[0m\u001b[1;33m.\u001b[0m\u001b[0mload\u001b[0m\u001b[1;33m(\u001b[0m\u001b[0mf\u001b[0m\u001b[1;33m)\u001b[0m\u001b[1;33m\u001b[0m\u001b[0m\n",
      "\u001b[1;32m~\\Anaconda3\\envs\\cs682\\lib\\tarfile.py\u001b[0m in \u001b[0;36mextract\u001b[1;34m(self, member, path, set_attrs, numeric_owner)\u001b[0m\n\u001b[0;32m   2048\u001b[0m             self._extract_member(tarinfo, os.path.join(path, tarinfo.name),\n\u001b[0;32m   2049\u001b[0m                                  \u001b[0mset_attrs\u001b[0m\u001b[1;33m=\u001b[0m\u001b[0mset_attrs\u001b[0m\u001b[1;33m,\u001b[0m\u001b[1;33m\u001b[0m\u001b[0m\n\u001b[1;32m-> 2050\u001b[1;33m                                  numeric_owner=numeric_owner)\n\u001b[0m\u001b[0;32m   2051\u001b[0m         \u001b[1;32mexcept\u001b[0m \u001b[0mOSError\u001b[0m \u001b[1;32mas\u001b[0m \u001b[0me\u001b[0m\u001b[1;33m:\u001b[0m\u001b[1;33m\u001b[0m\u001b[0m\n\u001b[0;32m   2052\u001b[0m             \u001b[1;32mif\u001b[0m \u001b[0mself\u001b[0m\u001b[1;33m.\u001b[0m\u001b[0merrorlevel\u001b[0m \u001b[1;33m>\u001b[0m \u001b[1;36m0\u001b[0m\u001b[1;33m:\u001b[0m\u001b[1;33m\u001b[0m\u001b[0m\n",
      "\u001b[1;32m~\\Anaconda3\\envs\\cs682\\lib\\tarfile.py\u001b[0m in \u001b[0;36m_extract_member\u001b[1;34m(self, tarinfo, targetpath, set_attrs, numeric_owner)\u001b[0m\n\u001b[0;32m   2118\u001b[0m \u001b[1;33m\u001b[0m\u001b[0m\n\u001b[0;32m   2119\u001b[0m         \u001b[1;32mif\u001b[0m \u001b[0mtarinfo\u001b[0m\u001b[1;33m.\u001b[0m\u001b[0misreg\u001b[0m\u001b[1;33m(\u001b[0m\u001b[1;33m)\u001b[0m\u001b[1;33m:\u001b[0m\u001b[1;33m\u001b[0m\u001b[0m\n\u001b[1;32m-> 2120\u001b[1;33m             \u001b[0mself\u001b[0m\u001b[1;33m.\u001b[0m\u001b[0mmakefile\u001b[0m\u001b[1;33m(\u001b[0m\u001b[0mtarinfo\u001b[0m\u001b[1;33m,\u001b[0m \u001b[0mtargetpath\u001b[0m\u001b[1;33m)\u001b[0m\u001b[1;33m\u001b[0m\u001b[0m\n\u001b[0m\u001b[0;32m   2121\u001b[0m         \u001b[1;32melif\u001b[0m \u001b[0mtarinfo\u001b[0m\u001b[1;33m.\u001b[0m\u001b[0misdir\u001b[0m\u001b[1;33m(\u001b[0m\u001b[1;33m)\u001b[0m\u001b[1;33m:\u001b[0m\u001b[1;33m\u001b[0m\u001b[0m\n\u001b[0;32m   2122\u001b[0m             \u001b[0mself\u001b[0m\u001b[1;33m.\u001b[0m\u001b[0mmakedir\u001b[0m\u001b[1;33m(\u001b[0m\u001b[0mtarinfo\u001b[0m\u001b[1;33m,\u001b[0m \u001b[0mtargetpath\u001b[0m\u001b[1;33m)\u001b[0m\u001b[1;33m\u001b[0m\u001b[0m\n",
      "\u001b[1;32m~\\Anaconda3\\envs\\cs682\\lib\\tarfile.py\u001b[0m in \u001b[0;36mmakefile\u001b[1;34m(self, tarinfo, targetpath)\u001b[0m\n\u001b[0;32m   2167\u001b[0m                 \u001b[0mtarget\u001b[0m\u001b[1;33m.\u001b[0m\u001b[0mtruncate\u001b[0m\u001b[1;33m(\u001b[0m\u001b[1;33m)\u001b[0m\u001b[1;33m\u001b[0m\u001b[0m\n\u001b[0;32m   2168\u001b[0m             \u001b[1;32melse\u001b[0m\u001b[1;33m:\u001b[0m\u001b[1;33m\u001b[0m\u001b[0m\n\u001b[1;32m-> 2169\u001b[1;33m                 \u001b[0mcopyfileobj\u001b[0m\u001b[1;33m(\u001b[0m\u001b[0msource\u001b[0m\u001b[1;33m,\u001b[0m \u001b[0mtarget\u001b[0m\u001b[1;33m,\u001b[0m \u001b[0mtarinfo\u001b[0m\u001b[1;33m.\u001b[0m\u001b[0msize\u001b[0m\u001b[1;33m,\u001b[0m \u001b[0mReadError\u001b[0m\u001b[1;33m,\u001b[0m \u001b[0mbufsize\u001b[0m\u001b[1;33m)\u001b[0m\u001b[1;33m\u001b[0m\u001b[0m\n\u001b[0m\u001b[0;32m   2170\u001b[0m \u001b[1;33m\u001b[0m\u001b[0m\n\u001b[0;32m   2171\u001b[0m     \u001b[1;32mdef\u001b[0m \u001b[0mmakeunknown\u001b[0m\u001b[1;33m(\u001b[0m\u001b[0mself\u001b[0m\u001b[1;33m,\u001b[0m \u001b[0mtarinfo\u001b[0m\u001b[1;33m,\u001b[0m \u001b[0mtargetpath\u001b[0m\u001b[1;33m)\u001b[0m\u001b[1;33m:\u001b[0m\u001b[1;33m\u001b[0m\u001b[0m\n",
      "\u001b[1;32m~\\Anaconda3\\envs\\cs682\\lib\\tarfile.py\u001b[0m in \u001b[0;36mcopyfileobj\u001b[1;34m(src, dst, length, exception, bufsize)\u001b[0m\n\u001b[0;32m    247\u001b[0m     \u001b[0mblocks\u001b[0m\u001b[1;33m,\u001b[0m \u001b[0mremainder\u001b[0m \u001b[1;33m=\u001b[0m \u001b[0mdivmod\u001b[0m\u001b[1;33m(\u001b[0m\u001b[0mlength\u001b[0m\u001b[1;33m,\u001b[0m \u001b[0mbufsize\u001b[0m\u001b[1;33m)\u001b[0m\u001b[1;33m\u001b[0m\u001b[0m\n\u001b[0;32m    248\u001b[0m     \u001b[1;32mfor\u001b[0m \u001b[0mb\u001b[0m \u001b[1;32min\u001b[0m \u001b[0mrange\u001b[0m\u001b[1;33m(\u001b[0m\u001b[0mblocks\u001b[0m\u001b[1;33m)\u001b[0m\u001b[1;33m:\u001b[0m\u001b[1;33m\u001b[0m\u001b[0m\n\u001b[1;32m--> 249\u001b[1;33m         \u001b[0mbuf\u001b[0m \u001b[1;33m=\u001b[0m \u001b[0msrc\u001b[0m\u001b[1;33m.\u001b[0m\u001b[0mread\u001b[0m\u001b[1;33m(\u001b[0m\u001b[0mbufsize\u001b[0m\u001b[1;33m)\u001b[0m\u001b[1;33m\u001b[0m\u001b[0m\n\u001b[0m\u001b[0;32m    250\u001b[0m         \u001b[1;32mif\u001b[0m \u001b[0mlen\u001b[0m\u001b[1;33m(\u001b[0m\u001b[0mbuf\u001b[0m\u001b[1;33m)\u001b[0m \u001b[1;33m<\u001b[0m \u001b[0mbufsize\u001b[0m\u001b[1;33m:\u001b[0m\u001b[1;33m\u001b[0m\u001b[0m\n\u001b[0;32m    251\u001b[0m             \u001b[1;32mraise\u001b[0m \u001b[0mexception\u001b[0m\u001b[1;33m(\u001b[0m\u001b[1;34m\"unexpected end of data\"\u001b[0m\u001b[1;33m)\u001b[0m\u001b[1;33m\u001b[0m\u001b[0m\n",
      "\u001b[1;31mKeyboardInterrupt\u001b[0m: "
     ]
    }
   ],
   "source": [
    "def train_model(model, criterion, optimizer, lr_scheduler, num_epochs=100):\n",
    "    since = time.time()\n",
    "\n",
    "    best_model = model\n",
    "    best_acc = 0.0\n",
    "    store_train_loss = []\n",
    "    store_train_acc = []\n",
    "    store_val_loss = []\n",
    "    store_val_acc = []\n",
    "    for epoch in range(num_epochs):\n",
    "        print('Epoch {}/{}'.format(epoch, num_epochs - 1))\n",
    "        print('-' * 10)\n",
    "\n",
    "        # Each epoch has a training and validation phase\n",
    "        for phase in ['Train', 'Val']:\n",
    "            if phase == 'train':\n",
    "                mode='train'\n",
    "                optimizer = lr_scheduler(optimizer, epoch)\n",
    "                model.train()  # Set model to training mode\n",
    "            else:\n",
    "                model.eval()\n",
    "                mode='val'\n",
    "\n",
    "            running_loss = 0.0\n",
    "            running_corrects = 0\n",
    "\n",
    "            counter=0\n",
    "            # Iterate over data.\n",
    "            for data in data_loader[phase]:\n",
    "                inputs, labels = data\n",
    "                show_databatch(inputs, labels)\n",
    "                #print(inputs.size())\n",
    "                # wrap them in Variable\n",
    "                if use_gpu:\n",
    "                    try:\n",
    "                        inputs, labels = Variable(inputs.float().cuda()),                             \n",
    "                        Variable(labels.long().cuda())\n",
    "                    except:\n",
    "                        print(inputs,labels)\n",
    "                else:\n",
    "                    inputs, labels = Variable(inputs), Variable(labels)\n",
    "\n",
    "                # Set gradient to zero to delete history of computations in previous epoch. Track operations so that differentiation can be done automatically.\n",
    "                optimizer.zero_grad()\n",
    "                outputs = model(inputs)\n",
    "                _, preds = torch.max(outputs.data, 1)\n",
    "                \n",
    "                loss = criterion(outputs, labels)\n",
    "                # print('loss done')                \n",
    "                # Just so that you can keep track that something's happening and don't feel like the program isn't running.\n",
    "                # if counter%10==0:\n",
    "                #     print(\"Reached iteration \",counter)\n",
    "                counter+=1\n",
    "\n",
    "                # backward + optimize only if in training phase\n",
    "                if phase == 'Train':\n",
    "                    # print('loss backward')\n",
    "                    loss.backward()\n",
    "                    # print('done loss backward')\n",
    "                    optimizer.step()\n",
    "                    # print('done optim')\n",
    "                # print evaluation statistics\n",
    "                try:\n",
    "                    # running_loss += loss.data[0]\n",
    "                    running_loss += loss.item()\n",
    "                    # print(labels.data)\n",
    "                    # print(preds)\n",
    "                    running_corrects += torch.sum(preds == labels.data)\n",
    "                    # print('running correct =',running_corrects)\n",
    "                except:\n",
    "                    print('unexpected error, could not calculate loss or do a sum.')\n",
    "            print('trying epoch loss')\n",
    "            epoch_loss = running_loss / dset_sizes[phase]\n",
    "            epoch_acc = running_corrects.item() / float(dset_sizes[phase])\n",
    "            print('{} Loss: {:.4f} Acc: {:.4f}'.format(\n",
    "                phase, epoch_loss, epoch_acc))\n",
    "            if phase == 'Train':\n",
    "                store_train_loss.append(epoch_loss)\n",
    "                store_train_acc.append(epoch_acc)\n",
    "            elif phase == 'Val':\n",
    "                store_val_loss.append(epoch_loss)\n",
    "                store_val_acc.append(epoch_acc)\n",
    "\n",
    "\n",
    "            # deep copy the model\n",
    "            if phase == 'Val':\n",
    "                #if USE_TENSORBOARD:\n",
    "                #    foo.add_scalar_value('epoch_loss',epoch_loss,step=epoch)\n",
    "                #    foo.add_scalar_value('epoch_acc',epoch_acc,step=epoch)\n",
    "                if epoch_acc > best_acc:\n",
    "                    best_acc = epoch_acc\n",
    "                    best_model = copy.deepcopy(model)\n",
    "                    print('new best accuracy = ',best_acc)\n",
    "    time_elapsed = time.time() - since\n",
    "    print('Training complete in {:.0f}m {:.0f}s'.format(\n",
    "        time_elapsed // 60, time_elapsed % 60))\n",
    "    print('Best val Acc: {:4f}'.format(best_acc))\n",
    "    print('returning and looping back')\n",
    "    return best_model\n",
    "\n",
    "# This function changes the learning rate over the training model.\n",
    "def exp_lr_scheduler(optimizer, epoch, init_lr=0.01, lr_decay_epoch=1):\n",
    "    \"\"\"Decay learning rate by a factor of DECAY_WEIGHT every lr_decay_epoch epochs.\"\"\"\n",
    "    lr = init_lr * (1**(epoch // lr_decay_epoch))\n",
    "\n",
    "    if epoch % lr_decay_epoch == 0:\n",
    "        print('LR is set to {}'.format(lr))\n",
    "\n",
    "    for param_group in optimizer.param_groups:\n",
    "        param_group['lr'] = lr\n",
    "\n",
    "    return optimizer\n",
    "\n",
    "model_ft = models.alexnet(pretrained=True)\n",
    "for param in model_ft.parameters():\n",
    "    param.requires_grad = False\n",
    "num_features = model_ft.classifier[6].in_features\n",
    "features = list(model_ft.classifier.children())[:-1] # Remove last layer\n",
    "features.extend([nn.Linear(num_features, len(class_names))]) # Add our layer with 4 outputs\n",
    "model_ft.classifier = nn.Sequential(*features) \n",
    "\n",
    "\n",
    "criterion = nn.CrossEntropyLoss()\n",
    "\n",
    "if use_gpu:\n",
    "    criterion.cuda()\n",
    "    model_ft.cuda()\n",
    "\n",
    "optimizer_ft = optim.RMSprop(model_ft.parameters(), lr=0.0001)\n",
    "\n",
    "\n",
    "\n",
    "# Run the functions and save the best model in the function model_ft.\n",
    "model_ft = train_model(model_ft, criterion, optimizer_ft, exp_lr_scheduler,\n",
    "                       num_epochs=10)\n",
    "\n",
    "# Save model\n",
    "#model_ft.state_dict('fine_tuned_best_model.pt')\n",
    "#model_ft.state_dict('mytraining.pt')\n"
   ]
  },
  {
   "cell_type": "code",
   "execution_count": 7,
   "metadata": {
    "collapsed": true
   },
   "outputs": [
    {
     "ename": "NameError",
     "evalue": "name 'model_ft' is not defined",
     "output_type": "error",
     "traceback": [
      "\u001b[1;31m---------------------------------------------------------------------------\u001b[0m",
      "\u001b[1;31mNameError\u001b[0m                                 Traceback (most recent call last)",
      "\u001b[1;32m<ipython-input-7-05e113be492e>\u001b[0m in \u001b[0;36m<module>\u001b[1;34m()\u001b[0m\n\u001b[1;32m----> 1\u001b[1;33m \u001b[0mmodel_ft\u001b[0m\u001b[1;33m.\u001b[0m\u001b[0meval\u001b[0m\u001b[1;33m(\u001b[0m\u001b[1;33m)\u001b[0m\u001b[1;33m\u001b[0m\u001b[0m\n\u001b[0m\u001b[0;32m      2\u001b[0m \u001b[1;31m#torch.save(model_ft.state_dict(), 'mytraining_hf1.pt')\u001b[0m\u001b[1;33m\u001b[0m\u001b[1;33m\u001b[0m\u001b[0m\n",
      "\u001b[1;31mNameError\u001b[0m: name 'model_ft' is not defined"
     ]
    }
   ],
   "source": [
    "model_ft.eval()\n",
    "#torch.save(model_ft.state_dict(), 'mytraining_hf1.pt') "
   ]
  },
  {
   "cell_type": "code",
   "execution_count": 8,
   "metadata": {},
   "outputs": [],
   "source": [
    "def test(m):\n",
    "    print(type(m))\n",
    "    test_acc = 0.0\n",
    "    for i, (images, labels) in enumerate(data_loader['Test']):\n",
    "\n",
    "#         if cuda_avail:\n",
    "#             images = Variable(images.cuda())\n",
    "#             labels = Variable(labels.cuda())\n",
    "\n",
    "        # Predict classes using images from the test set\n",
    "        outputs = m(images)\n",
    "        _, prediction = torch.max(outputs.data, 1)\n",
    "        print(prediction)\n",
    "        print(labels.data)\n",
    "        \n",
    "        test_acc += torch.sum(prediction == labels.data)\n",
    "\n",
    "    # Compute the average acc and loss over all 10000 test images\n",
    "    test_acc = test_acc.item() / dset_sizes['Test']\n",
    "    print(dset_sizes['Train'],dset_sizes['Val'],dset_sizes['Test'])\n",
    "    return test_acc"
   ]
  },
  {
   "cell_type": "code",
   "execution_count": 9,
   "metadata": {},
   "outputs": [
    {
     "name": "stdout",
     "output_type": "stream",
     "text": [
      "<class 'torchvision.models.alexnet.AlexNet'>\n",
      "tensor([ 3,  0,  8, 13, 21,  1, 18, 22, 10, 15, 23, 25, 14,  4, 19,  9, 11, 28,\n",
      "        15, 27, 20,  5,  2,  6, 17, 24, 13,  7])\n",
      "tensor([ 3,  0,  8, 13, 21,  1, 18, 22, 10, 15, 23, 25, 14,  4, 19,  9, 11, 27,\n",
      "        16, 26, 20,  5,  2,  6, 17, 24, 12,  7])\n",
      "2900 725 28\n",
      "0.8571428571428571\n"
     ]
    }
   ],
   "source": [
    "model = models.alexnet(pretrained=True)\n",
    "num_features = model.classifier[6].in_features\n",
    "features = list(model.classifier.children())[:-1] # Remove last layer\n",
    "features.extend([nn.Linear(num_features, len(class_names))]) # Add our layer with 4 outputs\n",
    "model.classifier = nn.Sequential(*features) \n",
    "model.load_state_dict(torch.load('mytraining_hf1.pt'))\n",
    "model.eval()\n",
    "acc = test(model)\n",
    "print((acc))"
   ]
  },
  {
   "cell_type": "code",
   "execution_count": 229,
   "metadata": {},
   "outputs": [
    {
     "name": "stdout",
     "output_type": "stream",
     "text": [
      "{'Train': 70, 'Test': 45}\n",
      "<class 'torchvision.datasets.folder.ImageFolder'>\n"
     ]
    }
   ],
   "source": [
    "#load data\n",
    "data_folder = \"sample_dataset/RNN\"\n",
    "datasets = ['Train', 'Test']\n",
    "image_data_rnn = {}\n",
    "for x in datasets:\n",
    "    image_data_rnn[x] = tv.datasets.ImageFolder(data_folder+'/'+x, transform=data_transform[x])\n",
    "    \n",
    "dset_sizes = {x: len(image_data_rnn[x]) for x in datasets}\n",
    "print(dset_sizes)\n",
    "print(type(image_data_rnn['Train']))"
   ]
  },
  {
   "cell_type": "code",
   "execution_count": 230,
   "metadata": {},
   "outputs": [
    {
     "name": "stdout",
     "output_type": "stream",
     "text": [
      "['Apple', 'Apple10', 'Apple2', 'Apple3', 'Apple4', 'Apple5', 'Apple6', 'Apple7', 'Apple8', 'Apple9', 'Horse', 'Horse2', 'Horse3', 'Horse4']\n",
      "14\n"
     ]
    }
   ],
   "source": [
    "dataloaders_rnn = {}\n",
    "for x in datasets:\n",
    "    dataloaders_rnn[x] = torch.utils.data.DataLoader(image_data_rnn[x], batch_size=5,\n",
    "        shuffle=False, num_workers=1\n",
    "    )\n",
    "class_names_rnn = image_data_rnn['Train'].classes\n",
    "print(class_names_rnn)\n",
    "print(len(dataloaders_rnn['Train']))"
   ]
  },
  {
   "cell_type": "code",
   "execution_count": 231,
   "metadata": {},
   "outputs": [
    {
     "name": "stdout",
     "output_type": "stream",
     "text": [
      "torch.Size([3, 228, 1132])\n",
      "(228, 1132, 3)\n"
     ]
    },
    {
     "name": "stderr",
     "output_type": "stream",
     "text": [
      "Clipping input data to the valid range for imshow with RGB data ([0..1] for floats or [0..255] for integers).\n"
     ]
    },
    {
     "data": {
      "image/png": "[encoded data removed]",
      "text/plain": [
       "<Figure size 432x288 with 1 Axes>"
      ]
     },
     "metadata": {
      "needs_background": "light"
     },
     "output_type": "display_data"
    }
   ],
   "source": [
    "def imshow(inp, title=None):\n",
    "    print(inp.shape)\n",
    "    inp = inp.numpy().transpose((1,2,0))\n",
    "    print(inp.shape)\n",
    "    # plt.figure(figsize=(10, 10))\n",
    "    plt.axis('off')\n",
    "    plt.imshow(inp)\n",
    "    if title is not None:\n",
    "        plt.title(title)\n",
    "    plt.pause(0.001)\n",
    "\n",
    "def show_databatch(inputs, classes):\n",
    "    out = torchvision.utils.make_grid(inputs)\n",
    "    imshow(out, title=[class_names_rnn[x] for x in classes])\n",
    "\n",
    "# Get a batch of training data\n",
    "inputs, classes = next(iter(dataloaders_rnn['Train']))\n",
    "show_databatch(inputs, classes)"
   ]
  },
  {
   "cell_type": "code",
   "execution_count": 232,
   "metadata": {},
   "outputs": [],
   "source": [
    "def to_categorical(y, num_classes):\n",
    "    \"\"\" 1-hot encodes a tensor \"\"\"\n",
    "    return ( torch.from_numpy(np.eye(num_classes)[y]))"
   ]
  },
  {
   "cell_type": "code",
   "execution_count": 233,
   "metadata": {},
   "outputs": [],
   "source": [
    "def embedd(word):\n",
    "    x = torch.empty(5)\n",
    "    c = 0\n",
    "    vocab = {}\n",
    "    for (index, letter) in enumerate(class_names):\n",
    "        vocab[letter] = index\n",
    "    word = word.upper() \n",
    "    word = word[:5]\n",
    "    for i in word:\n",
    "        x[c] = vocab[i]\n",
    "        c += 1\n",
    "    x = x.type(torch.LongTensor)    \n",
    "    return x    "
   ]
  },
  {
   "cell_type": "code",
   "execution_count": 234,
   "metadata": {},
   "outputs": [],
   "source": [
    "import torch\n",
    "import torch.nn as nn\n",
    "from torch.autograd import Variable\n",
    "\n",
    "class RNN(nn.Module):\n",
    "    def __init__(self, input_size, hidden_size, output_size, n_layers=1):\n",
    "        super(RNN, self).__init__()\n",
    "        self.input_size = input_size\n",
    "        self.hidden_size = hidden_size\n",
    "        self.output_size = output_size\n",
    "        self.n_layers = n_layers\n",
    "        \n",
    "        self.encoder = nn.Embedding(input_size, hidden_size)\n",
    "        self.gru = nn.GRU(hidden_size, hidden_size, n_layers)\n",
    "        self.decoder = nn.Linear(hidden_size, output_size)\n",
    "    \n",
    "    def forward(self, input, hidden):\n",
    "        input = self.encoder(input.view(1, -1))\n",
    "        output, hidden = self.gru(input.view(1, 1, -1), hidden)\n",
    "        output = self.decoder(output.view(1, -1))\n",
    "        return output, hidden\n",
    "\n",
    "    def init_hidden(self):\n",
    "        return Variable(torch.zeros(self.n_layers, 1, self.hidden_size))"
   ]
  },
  {
   "cell_type": "code",
   "execution_count": 235,
   "metadata": {},
   "outputs": [],
   "source": [
    "def trainRNN(inp, target):\n",
    "    hidden = decoder.init_hidden()\n",
    "    decoder.zero_grad()\n",
    "    loss = 0\n",
    "    chunk_len = 6\n",
    "    for c in range(chunk_len):\n",
    "        output, hidden = decoder(inp[c], hidden)\n",
    "        value, index = torch.max(output.data, 1)\n",
    "        loss += criterion(output, target[c].view((1)))\n",
    "    print(loss)\n",
    "    loss.backward()\n",
    "    decoder_optimizer.step()\n",
    "\n",
    "    return loss.data[0] / chunk_len"
   ]
  },
  {
   "cell_type": "code",
   "execution_count": 236,
   "metadata": {},
   "outputs": [],
   "source": [
    "#model.eval()"
   ]
  },
  {
   "cell_type": "code",
   "execution_count": 237,
   "metadata": {},
   "outputs": [
    {
     "name": "stdout",
     "output_type": "stream",
     "text": [
      "1\n",
      "tensor(20.0294, grad_fn=<ThAddBackward>)\n"
     ]
    },
    {
     "name": "stderr",
     "output_type": "stream",
     "text": [
      "C:\\Users\\Shruti1992\\Anaconda3\\envs\\cs682\\lib\\site-packages\\ipykernel_launcher.py:14: UserWarning: invalid index of a 0-dim tensor. This will be an error in PyTorch 0.5. Use tensor.item() to convert a 0-dim tensor to a Python number\n",
      "  \n"
     ]
    },
    {
     "name": "stdout",
     "output_type": "stream",
     "text": [
      "tensor(14.5891, grad_fn=<ThAddBackward>)\n",
      "tensor(12.5022, grad_fn=<ThAddBackward>)\n",
      "tensor(7.2976, grad_fn=<ThAddBackward>)\n",
      "tensor(5.1262, grad_fn=<ThAddBackward>)\n",
      "tensor(4.5496, grad_fn=<ThAddBackward>)\n",
      "tensor(2.7192, grad_fn=<ThAddBackward>)\n",
      "tensor(2.0373, grad_fn=<ThAddBackward>)\n",
      "tensor(1.5120, grad_fn=<ThAddBackward>)\n",
      "tensor(1.1208, grad_fn=<ThAddBackward>)\n",
      "tensor(22.9908, grad_fn=<ThAddBackward>)\n",
      "tensor(19.9075, grad_fn=<ThAddBackward>)\n",
      "tensor(17.6012, grad_fn=<ThAddBackward>)\n",
      "tensor(15.6580, grad_fn=<ThAddBackward>)\n",
      "2\n",
      "tensor(0.5670, grad_fn=<ThAddBackward>)\n",
      "tensor(0.5200, grad_fn=<ThAddBackward>)\n",
      "tensor(1.8856, grad_fn=<ThAddBackward>)\n",
      "tensor(0.4592, grad_fn=<ThAddBackward>)\n",
      "tensor(0.4444, grad_fn=<ThAddBackward>)\n",
      "tensor(0.5066, grad_fn=<ThAddBackward>)\n",
      "tensor(0.3739, grad_fn=<ThAddBackward>)\n",
      "tensor(0.3329, grad_fn=<ThAddBackward>)\n",
      "tensor(0.3011, grad_fn=<ThAddBackward>)\n",
      "tensor(0.2783, grad_fn=<ThAddBackward>)\n",
      "tensor(9.4044, grad_fn=<ThAddBackward>)\n",
      "tensor(7.2773, grad_fn=<ThAddBackward>)\n",
      "tensor(5.6519, grad_fn=<ThAddBackward>)\n",
      "tensor(6.1141, grad_fn=<ThAddBackward>)\n",
      "3\n",
      "tensor(0.3441, grad_fn=<ThAddBackward>)\n",
      "tensor(0.3935, grad_fn=<ThAddBackward>)\n",
      "tensor(0.6659, grad_fn=<ThAddBackward>)\n",
      "tensor(0.4884, grad_fn=<ThAddBackward>)\n",
      "tensor(0.5262, grad_fn=<ThAddBackward>)\n",
      "tensor(0.5664, grad_fn=<ThAddBackward>)\n",
      "tensor(0.5595, grad_fn=<ThAddBackward>)\n",
      "tensor(0.5504, grad_fn=<ThAddBackward>)\n",
      "tensor(0.5251, grad_fn=<ThAddBackward>)\n",
      "tensor(0.4870, grad_fn=<ThAddBackward>)\n",
      "tensor(1.7257, grad_fn=<ThAddBackward>)\n",
      "tensor(1.7006, grad_fn=<ThAddBackward>)\n",
      "tensor(1.6183, grad_fn=<ThAddBackward>)\n",
      "tensor(1.5234, grad_fn=<ThAddBackward>)\n",
      "4\n",
      "tensor(0.6024, grad_fn=<ThAddBackward>)\n",
      "tensor(0.6740, grad_fn=<ThAddBackward>)\n",
      "tensor(0.7809, grad_fn=<ThAddBackward>)\n",
      "tensor(0.7206, grad_fn=<ThAddBackward>)\n",
      "tensor(0.6936, grad_fn=<ThAddBackward>)\n",
      "tensor(0.6475, grad_fn=<ThAddBackward>)\n",
      "tensor(0.5701, grad_fn=<ThAddBackward>)\n",
      "tensor(0.4921, grad_fn=<ThAddBackward>)\n",
      "tensor(0.4145, grad_fn=<ThAddBackward>)\n",
      "tensor(0.3431, grad_fn=<ThAddBackward>)\n",
      "tensor(1.7729, grad_fn=<ThAddBackward>)\n",
      "tensor(1.8616, grad_fn=<ThAddBackward>)\n",
      "tensor(1.8459, grad_fn=<ThAddBackward>)\n",
      "tensor(1.7619, grad_fn=<ThAddBackward>)\n",
      "5\n",
      "tensor(0.3203, grad_fn=<ThAddBackward>)\n",
      "tensor(0.3579, grad_fn=<ThAddBackward>)\n",
      "tensor(0.4178, grad_fn=<ThAddBackward>)\n",
      "tensor(0.4000, grad_fn=<ThAddBackward>)\n",
      "tensor(0.4014, grad_fn=<ThAddBackward>)\n",
      "tensor(0.3955, grad_fn=<ThAddBackward>)\n",
      "tensor(0.3692, grad_fn=<ThAddBackward>)\n",
      "tensor(0.3407, grad_fn=<ThAddBackward>)\n",
      "tensor(0.3080, grad_fn=<ThAddBackward>)\n",
      "tensor(0.2738, grad_fn=<ThAddBackward>)\n",
      "tensor(1.7993, grad_fn=<ThAddBackward>)\n",
      "tensor(1.8245, grad_fn=<ThAddBackward>)\n",
      "tensor(1.7541, grad_fn=<ThAddBackward>)\n",
      "tensor(1.6219, grad_fn=<ThAddBackward>)\n",
      "6\n",
      "tensor(0.3453, grad_fn=<ThAddBackward>)\n",
      "tensor(0.4018, grad_fn=<ThAddBackward>)\n",
      "tensor(0.4664, grad_fn=<ThAddBackward>)\n",
      "tensor(0.4731, grad_fn=<ThAddBackward>)\n",
      "tensor(0.4814, grad_fn=<ThAddBackward>)\n",
      "tensor(0.4755, grad_fn=<ThAddBackward>)\n",
      "tensor(0.4461, grad_fn=<ThAddBackward>)\n",
      "tensor(0.4096, grad_fn=<ThAddBackward>)\n",
      "tensor(0.3666, grad_fn=<ThAddBackward>)\n",
      "tensor(0.3214, grad_fn=<ThAddBackward>)\n",
      "tensor(1.5939, grad_fn=<ThAddBackward>)\n",
      "tensor(1.6398, grad_fn=<ThAddBackward>)\n",
      "tensor(1.5964, grad_fn=<ThAddBackward>)\n",
      "tensor(1.4924, grad_fn=<ThAddBackward>)\n",
      "7\n",
      "tensor(0.3673, grad_fn=<ThAddBackward>)\n",
      "tensor(0.4181, grad_fn=<ThAddBackward>)\n",
      "tensor(0.4690, grad_fn=<ThAddBackward>)\n",
      "tensor(0.4728, grad_fn=<ThAddBackward>)\n",
      "tensor(0.4727, grad_fn=<ThAddBackward>)\n",
      "tensor(0.4594, grad_fn=<ThAddBackward>)\n",
      "tensor(0.4258, grad_fn=<ThAddBackward>)\n",
      "tensor(0.3868, grad_fn=<ThAddBackward>)\n",
      "tensor(0.3433, grad_fn=<ThAddBackward>)\n",
      "tensor(0.2991, grad_fn=<ThAddBackward>)\n",
      "tensor(1.6352, grad_fn=<ThAddBackward>)\n",
      "tensor(1.6845, grad_fn=<ThAddBackward>)\n",
      "tensor(1.6440, grad_fn=<ThAddBackward>)\n",
      "tensor(1.5404, grad_fn=<ThAddBackward>)\n"
     ]
    }
   ],
   "source": [
    "n_epochs = 7\n",
    "print_every = 100\n",
    "plot_every = 10\n",
    "hidden_size = 100\n",
    "n_layers = 1\n",
    "lr = 0.005\n",
    "n_characters = 29\n",
    "\n",
    "for param in decoder.parameters():\n",
    "    param.requires_grad = True\n",
    "decoder = RNN(n_characters, hidden_size, 29, n_layers)\n",
    "decoder_optimizer = torch.optim.Adam(decoder.parameters(), lr=lr)\n",
    "criterion = nn.CrossEntropyLoss()\n",
    "\n",
    "start = time.time()\n",
    "all_losses = []\n",
    "loss_avg = 0\n",
    "m = model\n",
    "for epoch in range(1, n_epochs + 1):\n",
    "    print(epoch)\n",
    "    for  (images, labels) in (dataloaders_rnn['Train']):\n",
    "        show_databatch(images, labels)\n",
    "        outputs = m(images)\n",
    "        _, prediction = torch.max(outputs.data, 1)\n",
    "        #print(prediction)\n",
    "        space = torch.tensor([28])\n",
    "        space.type(torch.LongTensor)\n",
    "        cap_in = torch.cat((space,prediction))\n",
    "        cap_out = torch.cat((embedd(class_names_rnn[labels[0]]),space))\n",
    "        #print(cap_in)\n",
    "        #print(cap_out)\n",
    "\n",
    "        loss = trainRNN(cap_in, cap_out)       \n",
    "        loss_avg += loss\n",
    "\n",
    "        if epoch % print_every == 0:\n",
    "            print('[%s (%d %d%%) %.4f]' % (time_since(start), epoch, epoch / n_epochs * 100, loss))\n",
    "            print(evaluate('Wh', 100), '\\n')\n",
    "\n",
    "        if epoch % plot_every == 0:\n",
    "            all_losses.append(loss_avg / plot_every)\n",
    "            loss_avg = 0"
   ]
  },
  {
   "cell_type": "code",
   "execution_count": 238,
   "metadata": {},
   "outputs": [],
   "source": [
    "def evaluate(inp):\n",
    "    hidden = decoder.init_hidden()\n",
    "    chunk_len = 6\n",
    "    predicted = torch.zeros([chunk_len])\n",
    "    for c in range(chunk_len):\n",
    "        output, hidden = decoder(inp[c], hidden)\n",
    "        value, index = torch.max(output.data, 1)\n",
    "        predicted[c] = index\n",
    "    return predicted"
   ]
  },
  {
   "cell_type": "code",
   "execution_count": 239,
   "metadata": {},
   "outputs": [
    {
     "name": "stdout",
     "output_type": "stream",
     "text": [
      "CNN\n",
      "tensor([ 0, 15, 15, 11,  4])\n",
      "RNN\n",
      "tensor([ 0., 15., 15., 11.,  4., 28.])\n",
      "CNN\n",
      "tensor([ 0, 15, 15, 11,  0])\n",
      "RNN\n",
      "tensor([ 0., 15., 15., 11.,  4., 15.])\n",
      "CNN\n",
      "tensor([ 0, 15, 15, 11,  4])\n",
      "RNN\n",
      "tensor([ 0., 15., 15., 11.,  4., 28.])\n",
      "CNN\n",
      "tensor([ 0, 15, 15, 11,  4])\n",
      "RNN\n",
      "tensor([ 0., 15., 15., 11.,  4., 28.])\n",
      "CNN\n",
      "tensor([ 0, 15, 15, 11,  4])\n",
      "RNN\n",
      "tensor([ 0., 15., 15., 11.,  4., 28.])\n",
      "CNN\n",
      "tensor([ 0, 15, 26, 11,  4])\n",
      "RNN\n",
      "tensor([ 0., 15., 15.,  4.,  4., 28.])\n",
      "CNN\n",
      "tensor([ 0, 15, 15, 11,  3])\n",
      "RNN\n",
      "tensor([ 0., 15., 15., 11.,  4., 28.])\n",
      "CNN\n",
      "tensor([ 7, 14, 17, 18,  4])\n",
      "RNN\n",
      "tensor([ 0., 14., 17., 18.,  4., 28.])\n",
      "CNN\n",
      "tensor([ 7, 14, 21, 18,  4])\n",
      "RNN\n",
      "tensor([ 0., 14., 17., 17.,  4., 28.])\n"
     ]
    }
   ],
   "source": [
    "for param in decoder.parameters():\n",
    "    param.requires_grad = False\n",
    "for  (images, labels) in (dataloaders_rnn['Test']):\n",
    "        outputs = m(images)\n",
    "        _, prediction = torch.max(outputs.data, 1)\n",
    "        print(\"CNN\")\n",
    "        print(prediction)\n",
    "        space = torch.tensor([28])\n",
    "        space.type(torch.LongTensor)\n",
    "        cap_in = torch.cat((space,prediction))  \n",
    "        p = evaluate(cap_in)\n",
    "        print(\"RNN\")\n",
    "        print(p)"
   ]
  },
  {
   "cell_type": "code",
   "execution_count": null,
   "metadata": {},
   "outputs": [],
   "source": []
  }
 ],
 "metadata": {
  "kernelspec": {
   "display_name": "Python 3",
   "language": "python",
   "name": "python3"
  },
  "language_info": {
   "codemirror_mode": {
    "name": "ipython",
    "version": 3
   },
   "file_extension": ".py",
   "mimetype": "text/x-python",
   "name": "python",
   "nbconvert_exporter": "python",
   "pygments_lexer": "ipython3",
   "version": "3.7.3"
  }
 },
 "nbformat": 4,
 "nbformat_minor": 2
}
